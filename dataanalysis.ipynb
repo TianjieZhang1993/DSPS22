{
 "cells": [
  {
   "cell_type": "code",
   "execution_count": 37,
   "id": "84326bbc",
   "metadata": {},
   "outputs": [],
   "source": [
    "import numpy as np\n",
    "import pandas as pd\n",
    "%matplotlib inline\n",
    "import matplotlib.pyplot as plt\n",
    "import matplotlib as mpl"
   ]
  },
  {
   "cell_type": "code",
   "execution_count": 38,
   "id": "aab3c2ce",
   "metadata": {},
   "outputs": [],
   "source": [
    "#A:td4 B:td4+100GAN    C:td4+100GAN+contrast change      D: td4+100GAN contrast change + equ   E:td4+minus mean\n",
    "\n",
    "d0=['(a)','(b)','(c)','(d)']\n",
    "d1=[0.5807792207792208,0.569,0.5085207907293797,0.5702985074626866]\n",
    "d={'type':d0,'Accuracy':d1}\n",
    "df=pd.DataFrame(d)"
   ]
  },
  {
   "cell_type": "code",
   "execution_count": 39,
   "id": "12505454",
   "metadata": {},
   "outputs": [
    {
     "data": {
      "text/html": [
       "<div>\n",
       "<style scoped>\n",
       "    .dataframe tbody tr th:only-of-type {\n",
       "        vertical-align: middle;\n",
       "    }\n",
       "\n",
       "    .dataframe tbody tr th {\n",
       "        vertical-align: top;\n",
       "    }\n",
       "\n",
       "    .dataframe thead th {\n",
       "        text-align: right;\n",
       "    }\n",
       "</style>\n",
       "<table border=\"1\" class=\"dataframe\">\n",
       "  <thead>\n",
       "    <tr style=\"text-align: right;\">\n",
       "      <th></th>\n",
       "      <th>Accuracy</th>\n",
       "    </tr>\n",
       "    <tr>\n",
       "      <th>type</th>\n",
       "      <th></th>\n",
       "    </tr>\n",
       "  </thead>\n",
       "  <tbody>\n",
       "    <tr>\n",
       "      <th>(a)</th>\n",
       "      <td>0.580779</td>\n",
       "    </tr>\n",
       "    <tr>\n",
       "      <th>(b)</th>\n",
       "      <td>0.569000</td>\n",
       "    </tr>\n",
       "    <tr>\n",
       "      <th>(c)</th>\n",
       "      <td>0.508521</td>\n",
       "    </tr>\n",
       "    <tr>\n",
       "      <th>(d)</th>\n",
       "      <td>0.570299</td>\n",
       "    </tr>\n",
       "  </tbody>\n",
       "</table>\n",
       "</div>"
      ],
      "text/plain": [
       "      Accuracy\n",
       "type          \n",
       "(a)   0.580779\n",
       "(b)   0.569000\n",
       "(c)   0.508521\n",
       "(d)   0.570299"
      ]
     },
     "execution_count": 39,
     "metadata": {},
     "output_type": "execute_result"
    }
   ],
   "source": [
    "df1=df.set_index('type')\n",
    "df1"
   ]
  },
  {
   "cell_type": "code",
   "execution_count": 40,
   "id": "db1996c2",
   "metadata": {},
   "outputs": [
    {
     "data": {
      "image/png": "[encoded data removed]",
      "text/plain": [
       "<Figure size 432x288 with 1 Axes>"
      ]
     },
     "metadata": {
      "needs_background": "light"
     },
     "output_type": "display_data"
    }
   ],
   "source": [
    "df1.plot(kind='bar')\n",
    "\n",
    "plt.ylabel('Accuracy')\n",
    "plt.xlabel('Preprocess')\n",
    "\n",
    "plt.show()"
   ]
  },
  {
   "cell_type": "code",
   "execution_count": 41,
   "id": "52849310",
   "metadata": {
    "scrolled": true
   },
   "outputs": [
    {
     "data": {
      "image/png": "[encoded data removed]",
      "text/plain": [
       "<Figure size 432x288 with 1 Axes>"
      ]
     },
     "metadata": {
      "needs_background": "light"
     },
     "output_type": "display_data"
    }
   ],
   "source": [
    "#plt.style.use('_mpl-gallery')\n",
    "\n",
    "# make data:\n",
    "# np.random.seed(3)\n",
    "# x = 0.5 + np.arange(8)\n",
    "# y = np.random.uniform(2, 7, len(x))\n",
    "\n",
    "# plot\n",
    "fig, ax = plt.subplots()\n",
    "\n",
    "#ax.bar(df['type'],df['Accuracy'])\n",
    "ax.bar(df['type'],df['Accuracy'], width=0.6, edgecolor=\"white\", linewidth=0.7)\n",
    "\n",
    "#ax.set(xlim=(0, 8), xticks=np.arange(1, 8),\n",
    "       #ylim=(0, 8), yticks=np.arange(1, 8))\n",
    "plt.ylabel('F1 score')\n",
    "plt.xlabel('Preprocess methods')\n",
    "plt.show()"
   ]
  },
  {
   "cell_type": "code",
   "execution_count": 42,
   "id": "11b64aed",
   "metadata": {},
   "outputs": [],
   "source": [
    "d0=['(a)','(b)','(c)']\n",
    "d1=[0.5807792207792208,0.571900826446281,0.6332599118942731]\n",
    "d={'type':d0,'Accuracy':d1}\n",
    "df=pd.DataFrame(d)"
   ]
  },
  {
   "cell_type": "code",
   "execution_count": 43,
   "id": "caa996cb",
   "metadata": {},
   "outputs": [
    {
     "data": {
      "text/html": [
       "<div>\n",
       "<style scoped>\n",
       "    .dataframe tbody tr th:only-of-type {\n",
       "        vertical-align: middle;\n",
       "    }\n",
       "\n",
       "    .dataframe tbody tr th {\n",
       "        vertical-align: top;\n",
       "    }\n",
       "\n",
       "    .dataframe thead th {\n",
       "        text-align: right;\n",
       "    }\n",
       "</style>\n",
       "<table border=\"1\" class=\"dataframe\">\n",
       "  <thead>\n",
       "    <tr style=\"text-align: right;\">\n",
       "      <th></th>\n",
       "      <th>Accuracy</th>\n",
       "    </tr>\n",
       "    <tr>\n",
       "      <th>type</th>\n",
       "      <th></th>\n",
       "    </tr>\n",
       "  </thead>\n",
       "  <tbody>\n",
       "    <tr>\n",
       "      <th>(a)</th>\n",
       "      <td>0.580779</td>\n",
       "    </tr>\n",
       "    <tr>\n",
       "      <th>(b)</th>\n",
       "      <td>0.571901</td>\n",
       "    </tr>\n",
       "    <tr>\n",
       "      <th>(c)</th>\n",
       "      <td>0.633260</td>\n",
       "    </tr>\n",
       "  </tbody>\n",
       "</table>\n",
       "</div>"
      ],
      "text/plain": [
       "      Accuracy\n",
       "type          \n",
       "(a)   0.580779\n",
       "(b)   0.571901\n",
       "(c)   0.633260"
      ]
     },
     "execution_count": 43,
     "metadata": {},
     "output_type": "execute_result"
    }
   ],
   "source": [
    "df1=df.set_index('type')\n",
    "df1"
   ]
  },
  {
   "cell_type": "code",
   "execution_count": 44,
   "id": "bd1275b7",
   "metadata": {},
   "outputs": [
    {
     "data": {
      "image/png": "[encoded data removed]",
      "text/plain": [
       "<Figure size 432x288 with 1 Axes>"
      ]
     },
     "metadata": {
      "needs_background": "light"
     },
     "output_type": "display_data"
    }
   ],
   "source": [
    "fig, ax = plt.subplots()\n",
    "\n",
    "#ax.bar(df['type'],df['Accuracy'])\n",
    "ax.bar(df['type'],df['Accuracy'], width=0.6, edgecolor=\"white\", linewidth=0.7,color='g')\n",
    "\n",
    "#ax.set(xlim=(0, 8), xticks=np.arange(1, 8),\n",
    "       #ylim=(0, 8), yticks=np.arange(1, 8))\n",
    "plt.ylabel('F1 score')\n",
    "plt.xlabel('Dataset')\n",
    "plt.show()"
   ]
  },
  {
   "cell_type": "code",
   "execution_count": null,
   "id": "b04c589f",
   "metadata": {},
   "outputs": [],
   "source": []
  }
 ],
 "metadata": {
  "kernelspec": {
   "display_name": "Python 3 (ipykernel)",
   "language": "python",
   "name": "python3"
  },
  "language_info": {
   "codemirror_mode": {
    "name": "ipython",
    "version": 3
   },
   "file_extension": ".py",
   "mimetype": "text/x-python",
   "name": "python",
   "nbconvert_exporter": "python",
   "pygments_lexer": "ipython3",
   "version": "3.7.7"
  }
 },
 "nbformat": 4,
 "nbformat_minor": 5
}
